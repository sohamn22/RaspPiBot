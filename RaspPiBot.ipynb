{
 "cells": [
  {
   "cell_type": "code",
   "execution_count": null,
   "id": "47f14bc7-5fcd-4047-b695-91df761fd365",
   "metadata": {},
   "outputs": [],
   "source": [
    "!pip install newspaper3k\n",
    "!pip install nltk\n",
    "pip install lxml[html_clean]"
   ]
  },
  {
   "cell_type": "code",
   "execution_count": 1,
   "id": "11d1d4ad-2f9a-4043-b401-0efbf0350a35",
   "metadata": {},
   "outputs": [],
   "source": [
    "from newspaper import Article\n",
    "import random\n",
    "import string\n",
    "import nltk\n",
    "from sklearn.feature_extraction.text import CountVectorizer\n",
    "from sklearn.metrics.pairwise import cosine_similarity\n",
    "import numpy as np\n",
    "import warnings\n",
    "warnings.filterwarnings('ignore')"
   ]
  },
  {
   "cell_type": "code",
   "execution_count": 2,
   "id": "78e68382-1d90-461c-9899-b41db4ac181f",
   "metadata": {},
   "outputs": [
    {
     "name": "stderr",
     "output_type": "stream",
     "text": [
      "[nltk_data] Downloading package punkt_tab to C:\\Users\\Soham\n",
      "[nltk_data]     Nagvekar\\AppData\\Roaming\\nltk_data...\n",
      "[nltk_data]   Package punkt_tab is already up-to-date!\n"
     ]
    },
    {
     "data": {
      "text/plain": [
       "True"
      ]
     },
     "execution_count": 2,
     "metadata": {},
     "output_type": "execute_result"
    }
   ],
   "source": [
    "nltk.download('punkt',quiet=True)\n",
    "nltk.download('punkt_tab')"
   ]
  },
  {
   "cell_type": "code",
   "execution_count": 3,
   "id": "a243b38d-1fed-46fb-8545-69fa9f341338",
   "metadata": {},
   "outputs": [],
   "source": [
    "url = 'https://www.richardelectronics.com/blog/projects/raspberry%20pi/raspberry-pi-5-pinout-specs-datasheet-projects'\n",
    "article=Article(url)\n",
    "article.download()"
   ]
  },
  {
   "cell_type": "code",
   "execution_count": 4,
   "id": "739ee3ba-564e-4ea9-b9b0-9ac6d495368a",
   "metadata": {},
   "outputs": [],
   "source": [
    "article.parse()\n",
    "article.nlp()\n",
    "corpus=article.text"
   ]
  },
  {
   "cell_type": "code",
   "execution_count": 5,
   "id": "63976d6e-2e6f-4770-ab41-8f8decc18847",
   "metadata": {},
   "outputs": [],
   "source": [
    "text=corpus\n",
    "sentence_list=nltk.sent_tokenize(text)"
   ]
  },
  {
   "cell_type": "code",
   "execution_count": 16,
   "id": "f8d037b2-1aca-4382-8675-a09e94fe5c75",
   "metadata": {},
   "outputs": [],
   "source": [
    "def greeting_response(text):\n",
    "    text=text.upper()\n",
    "    bot_greetings=['HELLO','HOW ARE YOU DOING!','ANY QUESTIONS?','HI']\n",
    "    user_greetings=['HI','I HAVE A QUESTION!','HELLO']\n",
    "    for word in text.split():\n",
    "        if word in user_greetings:\n",
    "            return random.choice(bot_greetings)"
   ]
  },
  {
   "cell_type": "code",
   "execution_count": 20,
   "id": "de58ad41-74b9-4ecb-82e3-7d94018f1c13",
   "metadata": {},
   "outputs": [],
   "source": [
    "def index_sort(list_var):\n",
    "    length=len(list_var)\n",
    "    list_index=list(range(0,length))\n",
    "    x=list_var\n",
    "    for i in range(length):\n",
    "        for j in range(length):\n",
    "            if x[list_index[i]] > x[list_index[j]]:\n",
    "                temp=list_index[i]\n",
    "                list_index[i]=list_index[j]\n",
    "                list_index[j]=temp\n",
    "    return list_index"
   ]
  },
  {
   "cell_type": "code",
   "execution_count": 25,
   "id": "8c2bde9d-b15c-46f8-9f6b-d2c6adc74d9b",
   "metadata": {},
   "outputs": [],
   "source": [
    "\n",
    "def bot_response(user_input):\n",
    "    user_input = user_input.upper()\n",
    "    sentence_list.append(user_input)\n",
    "    bot_response = ''\n",
    "    cm = CountVectorizer().fit_transform(sentence_list)\n",
    "    similarity_scores = cosine_similarity(cm[-1], cm[:-1])\n",
    "    similarity_scores_list = similarity_scores.flatten()\n",
    "    index = index_sort(similarity_scores_list)\n",
    "    index = index[1:]\n",
    "    resp_flag = 0\n",
    "    j = 0\n",
    "    \n",
    "    for i in range(len(index)):\n",
    "        if index[i] < len(sentence_list) and similarity_scores_list[index[i]] > 0.0:\n",
    "            bot_response += ' ' + sentence_list[index[i]]\n",
    "            resp_flag = 1\n",
    "            j += 1\n",
    "            if j > 2:\n",
    "                break\n",
    "    \n",
    "    if resp_flag == 0:\n",
    "        bot_response += \" Couldn't decipher your request!\"\n",
    "    \n",
    "    sentence_list.remove(user_input)\n",
    "    \n",
    "    return bot_response"
   ]
  },
  {
   "cell_type": "code",
   "execution_count": null,
   "id": "e9927f08-1227-4555-b221-302f2ec75fec",
   "metadata": {},
   "outputs": [
    {
     "name": "stdout",
     "output_type": "stream",
     "text": [
      "Bot: Hi, I'll help you with your queries about RASPBERRY PI 5. If you want to end the conversation type 'END'.\n"
     ]
    },
    {
     "name": "stdin",
     "output_type": "stream",
     "text": [
      " what is the memory range upto?\n"
     ]
    },
    {
     "name": "stdout",
     "output_type": "stream",
     "text": [
      "Bot:  WHAT IS MEMORY RANGE UPTO? WHAT IS MEMORY RANGE? Conclusion:\n",
      "\n",
      "It is a more powerful board with high processing speed and a wide memory range.\n"
     ]
    },
    {
     "name": "stdin",
     "output_type": "stream",
     "text": [
      " hdmi outputs\n"
     ]
    },
    {
     "name": "stdout",
     "output_type": "stream",
     "text": [
      "Bot:  Dual Micro-HDMI 2.1 Ports:\n",
      "\n",
      "Lets users extend the display on two different external monitors which is advantageous for work multitasking. Media Center:\n",
      "\n",
      "The Pi 5 can be utilized as a home multimedia center (with OSMC or Kodi) and allows users to play video and hear music on the HDMI or stream over the network. Interface type details Display Dual micro-HDMI 2.1, supports 4K@60Hz Camera Dual MIPI CSI-2 camera interfaces\n",
      "\n",
      "Software features of Raspberry Pi 5:\n",
      "\n",
      "It has a versatile software ecosystem, that allows various operating systems and tools to enhance its features.\n"
     ]
    }
   ],
   "source": [
    "\n",
    "print(\"Bot: Hi, I'll help you with your queries about RASPBERRY PI 5. If you want to end the conversation type 'END'.\")\n",
    "\n",
    "while(True):\n",
    "    u_input=input()\n",
    "    if u_input.upper()=='END':\n",
    "        break\n",
    "    else:\n",
    "        if greeting_response(u_input)!=None:\n",
    "            print('Bot: '+greeting_response(u_input))\n",
    "        else:\n",
    "            print('Bot: '+bot_response(u_input))\n",
    "    "
   ]
  },
  {
   "cell_type": "code",
   "execution_count": null,
   "id": "cab12714-67d5-4e46-be57-3fe8c6213ad3",
   "metadata": {},
   "outputs": [],
   "source": []
  }
 ],
 "metadata": {
  "kernelspec": {
   "display_name": "Python 3 (ipykernel)",
   "language": "python",
   "name": "python3"
  },
  "language_info": {
   "codemirror_mode": {
    "name": "ipython",
    "version": 3
   },
   "file_extension": ".py",
   "mimetype": "text/x-python",
   "name": "python",
   "nbconvert_exporter": "python",
   "pygments_lexer": "ipython3",
   "version": "3.12.7"
  }
 },
 "nbformat": 4,
 "nbformat_minor": 5
}
